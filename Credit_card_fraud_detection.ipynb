{
  "nbformat": 4,
  "nbformat_minor": 0,
  "metadata": {
    "colab": {
      "name": "[Template] Detecção de Fraude em Cartões de Crédito.ipynb",
      "provenance": [],
      "include_colab_link": true
    },
    "kernelspec": {
      "name": "python3",
      "display_name": "Python 3"
    }
  },
  "cells": [
    {
      "cell_type": "markdown",
      "metadata": {
        "id": "view-in-github",
        "colab_type": "text"
      },
      "source": [
        "<a href=\"https://colab.research.google.com/github/JoaoSiqueiraDS/Joao_Siqueira_Portifolio/blob/master/Credit_card_fraud_detection.ipynb\" target=\"_parent\"><img src=\"https://colab.research.google.com/assets/colab-badge.svg\" alt=\"Open In Colab\"/></a>"
      ]
    },
    {
      "cell_type": "markdown",
      "metadata": {
        "id": "IR56trFcPcC1"
      },
      "source": [
        "# Credit Card Fraud Detection\n",
        "\n",
        "If it has never happened to you, you probably know someone who has his/her credit card cloned. Fraudulent transactions represent billions of dollars of loss for banks and regular citizens. Tackling online fraud is no trivial and machine learning is a suitable solution to do so. The goal of this project is to train two models to forecast fraudulent transactions. A [data set from Kaggle](https://www.kaggle.com/mlg-ulb/creditcardfraud) was used in this analysis. The data set features 290 thousands of transactions, from which 492 are fraudulent. Another characteristic of this data set is that it is all the features (columns) are numeric due to safety and privacy. The columns are then named as V1, V2, V3, etc. The only features with their actual names in this data set are \"Time\", \"Amount\" and \"Class\". This last one is related to the whether the transaction is regular or fraudulent. This project is is divided into 5 parts: exploratory data analysis, data preparation, machine learning model, assessing the model performance and predicting the with test data. Well, lets get started.\n",
        "\n",
        "<p align=center>\n",
        "<img src=\"https://i.ibb.co/9mPwvKZ/1936a278707545.png\" width=\"60%\"></p>\n",
        "\n",
        "Some information of this data set:\n",
        "\n",
        "1 - It contains transactions made by credit cards in September 2013 by European cardholders.\n",
        "\n",
        "2 - It contains only numerical input variables which are the result of a PCA transformation. Features V1, V2, … V28 are the principal components obtained with PCA, the only features which have not been transformed with PCA are 'Time' and 'Amount'.\n",
        "\n",
        "3 - Feature 'Time' contains the seconds elapsed between each transaction and the first transaction in the dataset.\n",
        "\n",
        "4 - Feature 'Time' contains the seconds elapsed between each transaction and the first transaction in the dataset.\n",
        "\n",
        "5 - Feature 'Class' is the response variable and it takes value 1 in case of fraud and 0 otherwise."
      ]
    },
    {
      "cell_type": "markdown",
      "metadata": {
        "id": "0HVmpIxQWT4Y"
      },
      "source": [
        "## Exploratory data analysis\n",
        "\n",
        "The very first thing to be done in a machine learning project is to understand better the data set. Questions such as \"Are there outliers?\", \"Is there null values?\" or \"How balanced is the data set\" needs to be answered before moving forward.\n",
        "\n",
        "<p align=center>\n",
        "<img src=\"https://images.unsplash.com/photo-1620714223084-8fcacc6dfd8d?ixid=MnwxMjA3fDB8MHxwaG90by1wYWdlfHx8fGVufDB8fHx8&ixlib=rb-1.2.1&auto=format&fit=crop&w=1051&q=80\" width=\"50%\"></p>\n",
        "\n",
        "The very first thing to do is certainly importing the necessary libraries. By the way, this project uses Python only."
      ]
    },
    {
      "cell_type": "code",
      "metadata": {
        "id": "oQ4bNy7udtEE"
      },
      "source": [
        "# Importing the libraries\n",
        "\n",
        "import pandas as pd\n",
        "import numpy as np\n",
        "import matplotlib.pyplot as plt\n",
        "import seaborn as sns\n",
        "\n",
        "from sklearn.model_selection import train_test_split\n",
        "from sklearn.preprocessing import StandardScaler\n",
        "from sklearn.linear_model import LogisticRegression\n",
        "from sklearn.metrics import classification_report\n",
        "from sklearn.metrics import roc_auc_score, roc_curve, accuracy_score\n",
        "\n",
        "from imblearn.under_sampling import RandomUnderSampler\n",
        "\n",
        "# configure Seaborn\n",
        "\n",
        "sns.set_style('dark')\n",
        "\n",
        "!pip install -q scikit-plot\n",
        "\n",
        "import scikitplot as skplt"
      ],
      "execution_count": 1,
      "outputs": []
    },
    {
      "cell_type": "markdown",
      "metadata": {
        "id": "g5XDTWW5LRVe"
      },
      "source": [
        "Then the data set is related to a variable *df* . Yet in this part a test data frame is created using the .sample() method. This data frame is going to be used as an ultimate validation of the trained model.\n"
      ]
    },
    {
      "cell_type": "code",
      "metadata": {
        "id": "4NxUOfDOj2j8"
      },
      "source": [
        "file_path = \"https://www.dropbox.com/s/b44o3t3ehmnx2b7/creditcard.csv?dl=1\"\n",
        "\n",
        "# Importing the data set to dataframe (df)\n",
        "\n",
        "df = pd.read_csv(file_path)\n",
        "\n",
        "# Creating a test dataset\n",
        "\n",
        "test = df.sample(frac=0.15, random_state=0)"
      ],
      "execution_count": 2,
      "outputs": []
    },
    {
      "cell_type": "markdown",
      "metadata": {
        "id": "7nF_Dhd81Cvq"
      },
      "source": [
        "Nice … Now with our data frame df defined it is possible to analyze the data. Through the method df.head()   it was possible to take very first look at the data and the method df.describe() could give us some statistical information. For example, through this last analysis it was possible to detect outliers in the \"Amount\" variable. Another important analysis done was counting the number of null values on each column. That was possible through a simple command df.isnull().sum(). There are no missing values. \n",
        "Checking how balanced is the data set is the next step. Seaborn is a good option for this kind of analysis.\n",
        "\n"
      ]
    },
    {
      "cell_type": "code",
      "source": [
        "# First lines of the data set\n",
        "\n",
        "df.head()"
      ],
      "metadata": {
        "id": "tsrPfYWUpdFg"
      },
      "execution_count": null,
      "outputs": []
    },
    {
      "cell_type": "code",
      "source": [
        "# Stats summary\n",
        "\n",
        "df.describe()"
      ],
      "metadata": {
        "id": "QB3Is2JkplsW"
      },
      "execution_count": null,
      "outputs": []
    },
    {
      "cell_type": "code",
      "source": [
        "# Is there null values?\n",
        "\n",
        "df.isnull().sum().max()"
      ],
      "metadata": {
        "id": "WZ2PQmnTpzMA"
      },
      "execution_count": null,
      "outputs": []
    },
    {
      "cell_type": "code",
      "source": [
        "# plotting classes\n",
        "\n",
        "fig, ax = plt.subplots()\n",
        "\n",
        "sns.countplot(\"Class\", data=df, ax=ax, hue=\"Class\", palette='RdBu')\n",
        "ax.set_title(\"Class distribution\")\n",
        "plt.plot()\n",
        "plt.tight_layout()"
      ],
      "metadata": {
        "id": "yP1aJ98fp6rV"
      },
      "execution_count": null,
      "outputs": []
    },
    {
      "cell_type": "code",
      "source": [
        "from IPython.core.pylabtools import figsize\n",
        "# Plotting Class according to Time\n",
        "\n",
        "fig, ax = plt.subplots(nrows=2, ncols=1, figsize=(12,6))\n",
        "\n",
        "num_bins=40\n",
        "\n",
        "ax[0].hist(df['Time'][df['Class']==0], bins=num_bins, color='b')\n",
        "ax[1].hist(df['Time'][df[\"Class\"]==1], bins=num_bins, color='r')\n",
        "\n",
        "ax[0].set_title('Regular')\n",
        "ax[1].set_title('Fraud')\n",
        "\n",
        "plt.xlabel('Time-s')\n",
        "plt.ylabel('Transaction')\n",
        "plt.tight_layout()"
      ],
      "metadata": {
        "id": "AGWnMqN9qCmX"
      },
      "execution_count": null,
      "outputs": []
    },
    {
      "cell_type": "code",
      "source": [
        "# Plotting the \"Amount\" variable for frauds and regular transactions\n",
        "\n",
        "fig, ax = plt.subplots(figsize=(6,12), sharex=True)\n",
        "\n",
        "sns.boxplot(df['Class'], df['Amount'], showmeans=True, ax=ax)\n",
        "plt.ylim((-20,400))\n",
        "plt.xticks([0,1],['Normal','Fraud'])\n",
        "plt.tight_layout()"
      ],
      "metadata": {
        "id": "VCaTidaXqv9a"
      },
      "execution_count": null,
      "outputs": []
    },
    {
      "cell_type": "code",
      "source": [
        "# Fraud stats\n",
        "\n",
        "df.loc[(df['Class']==1) & (df[\"Amount\"]<2000), [\"Amount\"]].describe()"
      ],
      "metadata": {
        "id": "dZMxFwuSq1PS"
      },
      "execution_count": null,
      "outputs": []
    },
    {
      "cell_type": "code",
      "source": [
        "# Density Plots\n",
        "\n",
        "density_df = df.drop([\"Class\", 'Amount', 'Time'], axis=1)\n",
        "num_plots = len(density_df)\n",
        "\n",
        "df_class_0 = df[df['Class']==0]\n",
        "df_class_1 = df[df['Class']==1]\n",
        "\n",
        "fig, ax = plt.subplots(nrows=7, ncols=4, figsize=(18,18))\n",
        "fig.subplots_adjust(hspace=1, wspace=1)\n",
        "idx = 0\n",
        "\n",
        "for col in density_df:\n",
        "  idx += 1\n",
        "  plt.subplot(7, 4, idx, facecolor='#8b9d87')\n",
        "  sns.kdeplot(df_class_0[col], label=\"Class 0\", shade=True, color=\"r\")\n",
        "  sns.kdeplot(df_class_1[col], label=\"Class 1\", shade=True, color='k')\n",
        "  plt.title(col, fontsize=10)\n",
        "plt.tight_layout()"
      ],
      "metadata": {
        "id": "P-nWJ7bqrKN4"
      },
      "execution_count": null,
      "outputs": []
    },
    {
      "cell_type": "markdown",
      "metadata": {
        "id": "ULe7z0jZt0EH"
      },
      "source": [
        "## Data Preparation\n",
        "\n",
        "Standardization of a dataset is a common requirement for many machine learning estimators: they might behave badly if the individual features do not more or less look like standard normally distributed data (e.g. Gaussian with 0 mean and unit variance). In this dataset the variables \"Time\" and \"Amount\" were standardized, as seen below. For this step it was used the library Scikit-Learn."
      ]
    },
    {
      "cell_type": "code",
      "source": [
        "# Having Time and Amount in the same scale\n",
        "\n",
        "df_clean = df.copy()\n",
        "\n",
        "std_scaler = StandardScaler()\n",
        "df_clean[\"std_amount\"]=std_scaler.fit_transform(df_clean['Amount'].values.reshape(-1,1))\n",
        "df_clean['std_time']=std_scaler.fit_transform(df_clean['Time'].values.reshape(-1,1))\n",
        "df_clean.drop(['Time','Amount'], axis=1, inplace=True)"
      ],
      "metadata": {
        "id": "I6meYo4fJhVh"
      },
      "execution_count": 12,
      "outputs": []
    },
    {
      "cell_type": "markdown",
      "source": [
        "The next step is to separate the data set in train and validation. Again Scikit-Learn was used."
      ],
      "metadata": {
        "id": "OMpfL_z4r3gA"
      }
    },
    {
      "cell_type": "code",
      "source": [
        "# Separate the data set in train and validation\n",
        "\n",
        "X = df_clean.drop(\"Class\", axis=1)\n",
        "y = df['Class']\n",
        "\n",
        "X_train, X_val, y_train, y_val = train_test_split(X, y, stratify=y, shuffle=True)\n"
      ],
      "metadata": {
        "id": "Pu9zkou7N6X2"
      },
      "execution_count": 13,
      "outputs": []
    },
    {
      "cell_type": "markdown",
      "source": [
        "Previously it was seen that this data set is absolutely unbalanced. To solve this problem a method of under-sampling, which randomly extracts a sub class from the main class, was applied to the data set."
      ],
      "metadata": {
        "id": "d-4w8mQqr_iz"
      }
    },
    {
      "cell_type": "code",
      "source": [
        "# Balancing the data. In this project it will be done by suing the library IMBLearn and UnderSampling\n",
        "\n",
        "rus = RandomUnderSampler()\n",
        "\n",
        "X_rus, y_rus = rus.fit_resample(X_train, y_train)"
      ],
      "metadata": {
        "id": "SH-eYmMErdtd"
      },
      "execution_count": 14,
      "outputs": []
    },
    {
      "cell_type": "code",
      "source": [
        "# Checking how balanced the data is\n",
        "\n",
        "print(pd.Series(y_rus).value_counts())"
      ],
      "metadata": {
        "colab": {
          "base_uri": "https://localhost:8080/"
        },
        "id": "Y75t8q4wwWDS",
        "outputId": "648600bf-e143-412a-f8aa-770e8c03ee54"
      },
      "execution_count": 15,
      "outputs": [
        {
          "output_type": "stream",
          "name": "stdout",
          "text": [
            "0    369\n",
            "1    369\n",
            "Name: Class, dtype: int64\n"
          ]
        }
      ]
    },
    {
      "cell_type": "code",
      "source": [
        "# Plotting the new distribution\n",
        "\n",
        "sns.countplot(y_rus)"
      ],
      "metadata": {
        "colab": {
          "base_uri": "https://localhost:8080/",
          "height": 351
        },
        "id": "y-GDNFPY0y5J",
        "outputId": "714b7123-74f2-424c-949d-8264d66538f5"
      },
      "execution_count": 16,
      "outputs": [
        {
          "output_type": "stream",
          "name": "stderr",
          "text": [
            "/usr/local/lib/python3.7/dist-packages/seaborn/_decorators.py:43: FutureWarning: Pass the following variable as a keyword arg: x. From version 0.12, the only valid positional argument will be `data`, and passing other arguments without an explicit keyword will result in an error or misinterpretation.\n",
            "  FutureWarning\n"
          ]
        },
        {
          "output_type": "execute_result",
          "data": {
            "text/plain": [
              "<matplotlib.axes._subplots.AxesSubplot at 0x7f7439e4a950>"
            ]
          },
          "metadata": {},
          "execution_count": 16
        },
        {
          "output_type": "display_data",
          "data": {
            "image/png": "[encoded data removed]",
            "text/plain": [
              "<Figure size 432x288 with 1 Axes>"
            ]
          },
          "metadata": {
            "needs_background": "light"
          }
        }
      ]
    },
    {
      "cell_type": "markdown",
      "source": [
        "Correlation Matrix can show unexpected relations in our data set. There is a huge difference between a correlation matrix of a balanced and unbalanced data set. That reinforces the necessity of balancing the data set."
      ],
      "metadata": {
        "id": "ybYz6S-RsFu6"
      }
    },
    {
      "cell_type": "code",
      "source": [
        "# Plotting a correlation matrix\n",
        "\n",
        "corr = X_train.corr()\n",
        "\n",
        "corr_rus = pd.DataFrame(X_rus).corr()\n",
        "\n",
        "fig, ax = plt.subplots(nrows=1, ncols=2, figsize=(18,8))\n",
        "fig.suptitle('Correlation Matrix')\n",
        "\n",
        "sns.heatmap(corr, xticklabels=corr.columns, yticklabels=corr.columns, linewidths=1, cmap='coolwarm', ax=ax[0])\n",
        "ax[0].set_title('Unbalanced')\n",
        "\n",
        "sns.heatmap(corr_rus, xticklabels=corr_rus.columns, yticklabels=corr_rus.columns, linewidths=1, cmap='coolwarm', ax=ax[1])\n",
        "ax[0].set_title('Balanced')\n",
        "\n",
        "plt.show()"
      ],
      "metadata": {
        "colab": {
          "base_uri": "https://localhost:8080/",
          "height": 589
        },
        "id": "xgwGBqFK1JJx",
        "outputId": "bb6fee3e-75c3-4bb0-b261-903d1a0f17f5"
      },
      "execution_count": 17,
      "outputs": [
        {
          "output_type": "display_data",
          "data": {
            "image/png": "[encoded data removed]",
            "text/plain": [
              "<Figure size 1296x576 with 4 Axes>"
            ]
          },
          "metadata": {
            "needs_background": "light"
          }
        }
      ]
    },
    {
      "cell_type": "markdown",
      "metadata": {
        "id": "wJNH5qcjRxfX"
      },
      "source": [
        "## Learning Model\n",
        "\n",
        "Now the data is prepared to train a model. The objective of this project is to train a model to forecast credit card frauds. This way, for this the model chosen was Logistic Regression, which is applied to predict categorical variables (yes or no, tru or false, malign or benign, cat or dog, etc).\n",
        "\n",
        "The steps for training a model and predict, after choosing it, are:\n",
        "1. Instantiating the model\n",
        "2. Train the model\n",
        "3. Predict using the model"
      ]
    },
    {
      "cell_type": "code",
      "metadata": {
        "id": "lDySx8XUSMw_",
        "colab": {
          "base_uri": "https://localhost:8080/"
        },
        "outputId": "0b2dd4f2-910d-4fdf-899a-0be4062d99b0"
      },
      "source": [
        "# Instantiating the model \n",
        "\n",
        "np.random.seed(2)\n",
        "\n",
        "model=LogisticRegression()\n",
        "model.fit(X_rus, y_rus)\n",
        "\n",
        "# Predicting using Model \n",
        "\n",
        "y_pred = model.predict(X_val)\n",
        "y_proba = model.predict_proba(X_val)"
      ],
      "execution_count": 18,
      "outputs": [
        {
          "output_type": "execute_result",
          "data": {
            "text/plain": [
              "LogisticRegression()"
            ]
          },
          "metadata": {},
          "execution_count": 18
        }
      ]
    },
    {
      "cell_type": "code",
      "source": [
        "# Predicting using Model \n",
        "\n",
        "y_pred = model.predict(X_val)\n",
        "y_proba = model.predict_proba(X_val)"
      ],
      "metadata": {
        "id": "q0eiACgIBv0b"
      },
      "execution_count": 20,
      "outputs": []
    },
    {
      "cell_type": "markdown",
      "metadata": {
        "id": "3e4ENOTYSUXi"
      },
      "source": [
        "## Assessing the machine model performance.\n",
        "\n",
        "Great! We have now a machine learning model that can tell us, based on some bank information, whether a transaction is more likely or not to be a fraud. But, is the model predicting well? Let's answer it through a confusion matrix, classification report, accuracy and area-under-curve score."
      ]
    },
    {
      "cell_type": "code",
      "metadata": {
        "id": "H1jEi7gkSe2r",
        "colab": {
          "base_uri": "https://localhost:8080/",
          "height": 503
        },
        "outputId": "7fd2183d-8a96-4ad1-8c71-deceda24e1cb"
      },
      "source": [
        "# Plotting Logistic Regression model\n",
        "\n",
        "# Plotting the confusion matrix\n",
        "\n",
        "skplt.metrics.plot_confusion_matrix(y_val, y_pred, normalize=True)\n",
        "\n",
        "# Print classification report\n",
        "\n",
        "print(\"classification report: \\n\", classification_report(y_val, y_pred, digits=4))\n",
        "\n",
        "# Print model accuracy\n",
        "\n",
        "print(\"Accuracy: {}\".format(accuracy_score(y_val, y_pred)))\n",
        "\n",
        "# Print area under curve\n",
        "\n",
        "print('AUC:{}'.format(roc_auc_score(y_val, y_pred)))"
      ],
      "execution_count": 22,
      "outputs": [
        {
          "output_type": "stream",
          "name": "stdout",
          "text": [
            "classification report: \n",
            "               precision    recall  f1-score   support\n",
            "\n",
            "           0     0.9999    0.9592    0.9791     71079\n",
            "           1     0.0388    0.9512    0.0745       123\n",
            "\n",
            "    accuracy                         0.9592     71202\n",
            "   macro avg     0.5193    0.9552    0.5268     71202\n",
            "weighted avg     0.9983    0.9592    0.9776     71202\n",
            "\n",
            "Accuracy: 0.9591584506053201\n",
            "AUC:0.9551958504432889\n"
          ]
        },
        {
          "output_type": "display_data",
          "data": {
            "image/png": "[encoded data removed]",
            "text/plain": [
              "<Figure size 432x288 with 2 Axes>"
            ]
          },
          "metadata": {
            "needs_background": "light"
          }
        }
      ]
    },
    {
      "cell_type": "markdown",
      "source": [
        "Results show that trained model performs well. The model presented high accuracy and area-under-curve numbers. The next step is to use this model in a test data set. In the very beginning of this article it was shown that we created this data set (called test). The same trained model was used to predict the 'test' data set."
      ],
      "metadata": {
        "id": "PTFBbdDrtYH3"
      }
    },
    {
      "cell_type": "markdown",
      "source": [
        "# Predicting with test data"
      ],
      "metadata": {
        "id": "P244zDAP3gbg"
      }
    },
    {
      "cell_type": "code",
      "source": [
        "# Standardize the columns Amount and Time in the test dataset\n",
        "\n",
        "test_clean = test.copy()\n",
        "\n",
        "test_clean['std_amount'] = std_scaler.fit_transform(test_clean['Amount'].values.reshape(-1,1))\n",
        "test_clean['std_time'] = std_scaler.fit_transform(test_clean['Time'].values.reshape(-1,1))\n",
        "\n",
        "test_clean.drop(['Time','Amount'], axis=1, inplace=True)\n",
        "\n",
        "test_clean.head()"
      ],
      "metadata": {
        "id": "h1w4Vddj3drq",
        "outputId": "91b3895d-5431-4c07-dc7b-d8941e75ec98",
        "colab": {
          "base_uri": "https://localhost:8080/",
          "height": 270
        }
      },
      "execution_count": 24,
      "outputs": [
        {
          "output_type": "execute_result",
          "data": {
            "text/html": [
              "\n",
              "  <div id=\"df-c3e478c6-34dd-4371-b5ed-70e80fb9f1e4\">\n",
              "    <div class=\"colab-df-container\">\n",
              "      <div>\n",
              "<style scoped>\n",
              "    .dataframe tbody tr th:only-of-type {\n",
              "        vertical-align: middle;\n",
              "    }\n",
              "\n",
              "    .dataframe tbody tr th {\n",
              "        vertical-align: top;\n",
              "    }\n",
              "\n",
              "    .dataframe thead th {\n",
              "        text-align: right;\n",
              "    }\n",
              "</style>\n",
              "<table border=\"1\" class=\"dataframe\">\n",
              "  <thead>\n",
              "    <tr style=\"text-align: right;\">\n",
              "      <th></th>\n",
              "      <th>V1</th>\n",
              "      <th>V2</th>\n",
              "      <th>V3</th>\n",
              "      <th>V4</th>\n",
              "      <th>V5</th>\n",
              "      <th>V6</th>\n",
              "      <th>V7</th>\n",
              "      <th>V8</th>\n",
              "      <th>V9</th>\n",
              "      <th>V10</th>\n",
              "      <th>V11</th>\n",
              "      <th>V12</th>\n",
              "      <th>V13</th>\n",
              "      <th>V14</th>\n",
              "      <th>V15</th>\n",
              "      <th>V16</th>\n",
              "      <th>V17</th>\n",
              "      <th>V18</th>\n",
              "      <th>V19</th>\n",
              "      <th>V20</th>\n",
              "      <th>V21</th>\n",
              "      <th>V22</th>\n",
              "      <th>V23</th>\n",
              "      <th>V24</th>\n",
              "      <th>V25</th>\n",
              "      <th>V26</th>\n",
              "      <th>V27</th>\n",
              "      <th>V28</th>\n",
              "      <th>Class</th>\n",
              "      <th>std_amount</th>\n",
              "      <th>std_time</th>\n",
              "    </tr>\n",
              "  </thead>\n",
              "  <tbody>\n",
              "    <tr>\n",
              "      <th>183484</th>\n",
              "      <td>-0.323334</td>\n",
              "      <td>1.057455</td>\n",
              "      <td>-0.048341</td>\n",
              "      <td>-0.607204</td>\n",
              "      <td>1.259821</td>\n",
              "      <td>-0.091761</td>\n",
              "      <td>1.159101</td>\n",
              "      <td>-0.124335</td>\n",
              "      <td>-0.174640</td>\n",
              "      <td>-1.644401</td>\n",
              "      <td>-1.118863</td>\n",
              "      <td>0.202647</td>\n",
              "      <td>1.145965</td>\n",
              "      <td>-1.802360</td>\n",
              "      <td>-0.247178</td>\n",
              "      <td>-0.060945</td>\n",
              "      <td>0.846606</td>\n",
              "      <td>0.379454</td>\n",
              "      <td>0.847262</td>\n",
              "      <td>0.186409</td>\n",
              "      <td>-0.207098</td>\n",
              "      <td>-0.433890</td>\n",
              "      <td>-0.261613</td>\n",
              "      <td>-0.046651</td>\n",
              "      <td>0.211512</td>\n",
              "      <td>0.008297</td>\n",
              "      <td>0.108494</td>\n",
              "      <td>0.161139</td>\n",
              "      <td>0</td>\n",
              "      <td>-0.177738</td>\n",
              "      <td>0.658372</td>\n",
              "    </tr>\n",
              "    <tr>\n",
              "      <th>255448</th>\n",
              "      <td>-0.349718</td>\n",
              "      <td>0.932619</td>\n",
              "      <td>0.142992</td>\n",
              "      <td>-0.657071</td>\n",
              "      <td>1.169784</td>\n",
              "      <td>-0.733369</td>\n",
              "      <td>1.009985</td>\n",
              "      <td>-0.071069</td>\n",
              "      <td>-0.302083</td>\n",
              "      <td>-1.192404</td>\n",
              "      <td>-0.854776</td>\n",
              "      <td>-0.620458</td>\n",
              "      <td>-0.806471</td>\n",
              "      <td>-0.770837</td>\n",
              "      <td>-0.108158</td>\n",
              "      <td>0.258964</td>\n",
              "      <td>0.492095</td>\n",
              "      <td>-0.148516</td>\n",
              "      <td>-0.148099</td>\n",
              "      <td>-0.096502</td>\n",
              "      <td>-0.271537</td>\n",
              "      <td>-0.833209</td>\n",
              "      <td>-0.030360</td>\n",
              "      <td>0.490035</td>\n",
              "      <td>-0.404816</td>\n",
              "      <td>0.134350</td>\n",
              "      <td>0.076830</td>\n",
              "      <td>0.175562</td>\n",
              "      <td>0</td>\n",
              "      <td>-0.321945</td>\n",
              "      <td>1.320094</td>\n",
              "    </tr>\n",
              "    <tr>\n",
              "      <th>244749</th>\n",
              "      <td>-1.614711</td>\n",
              "      <td>-2.406570</td>\n",
              "      <td>0.326194</td>\n",
              "      <td>0.665520</td>\n",
              "      <td>2.369268</td>\n",
              "      <td>-1.775367</td>\n",
              "      <td>-1.139049</td>\n",
              "      <td>0.329904</td>\n",
              "      <td>0.903813</td>\n",
              "      <td>-0.219013</td>\n",
              "      <td>-1.726259</td>\n",
              "      <td>-0.736771</td>\n",
              "      <td>-1.516835</td>\n",
              "      <td>0.348343</td>\n",
              "      <td>0.041437</td>\n",
              "      <td>0.732681</td>\n",
              "      <td>-1.136766</td>\n",
              "      <td>0.816653</td>\n",
              "      <td>-1.578951</td>\n",
              "      <td>0.419835</td>\n",
              "      <td>0.701399</td>\n",
              "      <td>1.134489</td>\n",
              "      <td>0.965054</td>\n",
              "      <td>0.640981</td>\n",
              "      <td>-1.801998</td>\n",
              "      <td>-1.041114</td>\n",
              "      <td>0.286285</td>\n",
              "      <td>0.437322</td>\n",
              "      <td>0</td>\n",
              "      <td>0.034666</td>\n",
              "      <td>1.219742</td>\n",
              "    </tr>\n",
              "    <tr>\n",
              "      <th>63919</th>\n",
              "      <td>-2.477184</td>\n",
              "      <td>0.860613</td>\n",
              "      <td>1.441850</td>\n",
              "      <td>1.051019</td>\n",
              "      <td>-1.856621</td>\n",
              "      <td>2.078384</td>\n",
              "      <td>0.510828</td>\n",
              "      <td>-0.243399</td>\n",
              "      <td>-0.260691</td>\n",
              "      <td>0.133040</td>\n",
              "      <td>1.551682</td>\n",
              "      <td>0.435125</td>\n",
              "      <td>-0.336022</td>\n",
              "      <td>0.278965</td>\n",
              "      <td>1.812232</td>\n",
              "      <td>0.080001</td>\n",
              "      <td>0.116347</td>\n",
              "      <td>0.291818</td>\n",
              "      <td>0.106228</td>\n",
              "      <td>-0.987790</td>\n",
              "      <td>0.810408</td>\n",
              "      <td>0.692245</td>\n",
              "      <td>0.150121</td>\n",
              "      <td>-0.260777</td>\n",
              "      <td>0.005183</td>\n",
              "      <td>-0.177847</td>\n",
              "      <td>-0.510060</td>\n",
              "      <td>-0.660533</td>\n",
              "      <td>0</td>\n",
              "      <td>0.838765</td>\n",
              "      <td>-0.919236</td>\n",
              "    </tr>\n",
              "    <tr>\n",
              "      <th>11475</th>\n",
              "      <td>1.338831</td>\n",
              "      <td>-0.547264</td>\n",
              "      <td>0.737389</td>\n",
              "      <td>-0.212383</td>\n",
              "      <td>-1.110039</td>\n",
              "      <td>-0.525744</td>\n",
              "      <td>-0.801403</td>\n",
              "      <td>-0.063672</td>\n",
              "      <td>0.997276</td>\n",
              "      <td>0.113386</td>\n",
              "      <td>0.664531</td>\n",
              "      <td>-3.282511</td>\n",
              "      <td>0.409266</td>\n",
              "      <td>1.252202</td>\n",
              "      <td>-0.868774</td>\n",
              "      <td>0.214387</td>\n",
              "      <td>1.878003</td>\n",
              "      <td>-1.906559</td>\n",
              "      <td>0.263854</td>\n",
              "      <td>-0.126871</td>\n",
              "      <td>-0.139436</td>\n",
              "      <td>-0.074719</td>\n",
              "      <td>0.067055</td>\n",
              "      <td>0.333122</td>\n",
              "      <td>0.379087</td>\n",
              "      <td>-0.268706</td>\n",
              "      <td>-0.002769</td>\n",
              "      <td>0.003272</td>\n",
              "      <td>0</td>\n",
              "      <td>-0.310490</td>\n",
              "      <td>-1.572827</td>\n",
              "    </tr>\n",
              "  </tbody>\n",
              "</table>\n",
              "</div>\n",
              "      <button class=\"colab-df-convert\" onclick=\"convertToInteractive('df-c3e478c6-34dd-4371-b5ed-70e80fb9f1e4')\"\n",
              "              title=\"Convert this dataframe to an interactive table.\"\n",
              "              style=\"display:none;\">\n",
              "        \n",
              "  <svg xmlns=\"http://www.w3.org/2000/svg\" height=\"24px\"viewBox=\"0 0 24 24\"\n",
              "       width=\"24px\">\n",
              "    <path d=\"M0 0h24v24H0V0z\" fill=\"none\"/>\n",
              "    <path d=\"M18.56 5.44l.94 2.06.94-2.06 2.06-.94-2.06-.94-.94-2.06-.94 2.06-2.06.94zm-11 1L8.5 8.5l.94-2.06 2.06-.94-2.06-.94L8.5 2.5l-.94 2.06-2.06.94zm10 10l.94 2.06.94-2.06 2.06-.94-2.06-.94-.94-2.06-.94 2.06-2.06.94z\"/><path d=\"M17.41 7.96l-1.37-1.37c-.4-.4-.92-.59-1.43-.59-.52 0-1.04.2-1.43.59L10.3 9.45l-7.72 7.72c-.78.78-.78 2.05 0 2.83L4 21.41c.39.39.9.59 1.41.59.51 0 1.02-.2 1.41-.59l7.78-7.78 2.81-2.81c.8-.78.8-2.07 0-2.86zM5.41 20L4 18.59l7.72-7.72 1.47 1.35L5.41 20z\"/>\n",
              "  </svg>\n",
              "      </button>\n",
              "      \n",
              "  <style>\n",
              "    .colab-df-container {\n",
              "      display:flex;\n",
              "      flex-wrap:wrap;\n",
              "      gap: 12px;\n",
              "    }\n",
              "\n",
              "    .colab-df-convert {\n",
              "      background-color: #E8F0FE;\n",
              "      border: none;\n",
              "      border-radius: 50%;\n",
              "      cursor: pointer;\n",
              "      display: none;\n",
              "      fill: #1967D2;\n",
              "      height: 32px;\n",
              "      padding: 0 0 0 0;\n",
              "      width: 32px;\n",
              "    }\n",
              "\n",
              "    .colab-df-convert:hover {\n",
              "      background-color: #E2EBFA;\n",
              "      box-shadow: 0px 1px 2px rgba(60, 64, 67, 0.3), 0px 1px 3px 1px rgba(60, 64, 67, 0.15);\n",
              "      fill: #174EA6;\n",
              "    }\n",
              "\n",
              "    [theme=dark] .colab-df-convert {\n",
              "      background-color: #3B4455;\n",
              "      fill: #D2E3FC;\n",
              "    }\n",
              "\n",
              "    [theme=dark] .colab-df-convert:hover {\n",
              "      background-color: #434B5C;\n",
              "      box-shadow: 0px 1px 3px 1px rgba(0, 0, 0, 0.15);\n",
              "      filter: drop-shadow(0px 1px 2px rgba(0, 0, 0, 0.3));\n",
              "      fill: #FFFFFF;\n",
              "    }\n",
              "  </style>\n",
              "\n",
              "      <script>\n",
              "        const buttonEl =\n",
              "          document.querySelector('#df-c3e478c6-34dd-4371-b5ed-70e80fb9f1e4 button.colab-df-convert');\n",
              "        buttonEl.style.display =\n",
              "          google.colab.kernel.accessAllowed ? 'block' : 'none';\n",
              "\n",
              "        async function convertToInteractive(key) {\n",
              "          const element = document.querySelector('#df-c3e478c6-34dd-4371-b5ed-70e80fb9f1e4');\n",
              "          const dataTable =\n",
              "            await google.colab.kernel.invokeFunction('convertToInteractive',\n",
              "                                                     [key], {});\n",
              "          if (!dataTable) return;\n",
              "\n",
              "          const docLinkHtml = 'Like what you see? Visit the ' +\n",
              "            '<a target=\"_blank\" href=https://colab.research.google.com/notebooks/data_table.ipynb>data table notebook</a>'\n",
              "            + ' to learn more about interactive tables.';\n",
              "          element.innerHTML = '';\n",
              "          dataTable['output_type'] = 'display_data';\n",
              "          await google.colab.output.renderOutput(dataTable, element);\n",
              "          const docLink = document.createElement('div');\n",
              "          docLink.innerHTML = docLinkHtml;\n",
              "          element.appendChild(docLink);\n",
              "        }\n",
              "      </script>\n",
              "    </div>\n",
              "  </div>\n",
              "  "
            ],
            "text/plain": [
              "              V1        V2        V3  ...  Class  std_amount  std_time\n",
              "183484 -0.323334  1.057455 -0.048341  ...      0   -0.177738  0.658372\n",
              "255448 -0.349718  0.932619  0.142992  ...      0   -0.321945  1.320094\n",
              "244749 -1.614711 -2.406570  0.326194  ...      0    0.034666  1.219742\n",
              "63919  -2.477184  0.860613  1.441850  ...      0    0.838765 -0.919236\n",
              "11475   1.338831 -0.547264  0.737389  ...      0   -0.310490 -1.572827\n",
              "\n",
              "[5 rows x 31 columns]"
            ]
          },
          "metadata": {},
          "execution_count": 24
        }
      ]
    },
    {
      "cell_type": "code",
      "source": [
        "# Separar variáveis entre X e y\n",
        "\n",
        "X_test = test_clean.drop('Class', axis=1)\n",
        "y_test = test['Class']"
      ],
      "metadata": {
        "id": "mMa5AFJQEvHo"
      },
      "execution_count": 25,
      "outputs": []
    },
    {
      "cell_type": "code",
      "source": [
        "# Prediction using both models\n",
        "\n",
        "# Logistic Regression\n",
        "\n",
        "y_pred_t1 = model.predict(X_test)\n",
        "y_proba_t1 = model.predict_proba(X_test)\n",
        "\n",
        "# SGD Classifier\n",
        "\n",
        "y_pred_t2 = model2.predict(X_test)\n",
        "#y_proba_t2 = model2.predict_proba(X_test)"
      ],
      "metadata": {
        "id": "uRaizc6V71Pi"
      },
      "execution_count": 26,
      "outputs": []
    },
    {
      "cell_type": "code",
      "source": [
        "# Plotting Logistic Regression model - Test dataset\n",
        "\n",
        "# Plotting the confusion matrix\n",
        "\n",
        "skplt.metrics.plot_confusion_matrix(y_test, y_pred_t1, normalize=True)\n",
        "\n",
        "# Print classification report\n",
        "\n",
        "print(\"classification report: \\n\", classification_report(y_test, y_pred_t1, digits=4))\n",
        "\n",
        "# Print model accuracy\n",
        "\n",
        "print(\"Accuracy: {}\".format(accuracy_score(y_test, y_pred_t1)))\n",
        "\n",
        "# Print area under curve\n",
        "\n",
        "print('AUC:{}'.format(roc_auc_score(y_test, y_pred_t1)))"
      ],
      "metadata": {
        "id": "4HLucOq7-bNv",
        "outputId": "5faaecd1-05d1-4321-9d16-d1a171d15c95",
        "colab": {
          "base_uri": "https://localhost:8080/",
          "height": 503
        }
      },
      "execution_count": 27,
      "outputs": [
        {
          "output_type": "stream",
          "name": "stdout",
          "text": [
            "classification report: \n",
            "               precision    recall  f1-score   support\n",
            "\n",
            "           0     0.9999    0.9590    0.9790     42647\n",
            "           1     0.0390    0.9595    0.0750        74\n",
            "\n",
            "    accuracy                         0.9590     42721\n",
            "   macro avg     0.5195    0.9592    0.5270     42721\n",
            "weighted avg     0.9983    0.9590    0.9775     42721\n",
            "\n",
            "Accuracy: 0.9590131317150816\n",
            "AUC:0.9592359083589416\n"
          ]
        },
        {
          "output_type": "display_data",
          "data": {
            "image/png": "[encoded data removed]",
            "text/plain": [
              "<Figure size 432x288 with 2 Axes>"
            ]
          },
          "metadata": {
            "needs_background": "light"
          }
        }
      ]
    },
    {
      "cell_type": "markdown",
      "metadata": {
        "id": "0Bj7zRZMSfO7"
      },
      "source": [
        "## Conclusion\n",
        "\n",
        "That could be considered a easy data science project however, as could be seen, it was not trivial to obtain the results. The trained model worked quite well on the test data set but there is certainly room for improvement. Testing other models or tuning the parameters are some things that could result in better predictions."
      ]
    }
  ]
}